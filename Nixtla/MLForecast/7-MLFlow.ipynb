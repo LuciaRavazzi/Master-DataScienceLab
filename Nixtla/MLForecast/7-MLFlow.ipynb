{
 "cells": [
  {
   "cell_type": "code",
   "execution_count": 1,
   "metadata": {},
   "outputs": [],
   "source": [
    "import copy\n",
    "import subprocess\n",
    "import time\n",
    "\n",
    "import lightgbm as lgb\n",
    "import mlflow\n",
    "import pandas as pd\n",
    "import requests\n",
    "from sklearn.linear_model import LinearRegression\n",
    "from utilsforecast.data import generate_series\n",
    "from utilsforecast.losses import rmse, smape\n",
    "from utilsforecast.evaluation import evaluate\n",
    "from utilsforecast.feature_engineering import fourier\n",
    "\n",
    "import mlforecast.flavor\n",
    "from mlforecast import MLForecast\n",
    "from mlforecast.lag_transforms import ExponentiallyWeightedMean\n",
    "from mlforecast.utils import PredictionIntervals"
   ]
  },
  {
   "cell_type": "code",
   "execution_count": 2,
   "metadata": {},
   "outputs": [],
   "source": [
    "freq = 'h'\n",
    "h = 10\n",
    "series = generate_series(5, freq=freq)\n",
    "\n",
    "valid = series.groupby('unique_id', observed=True).tail(h)\n",
    "train = series.drop(valid.index)\n",
    "train, X_df = fourier(train, freq=freq, season_length=24, k=2, h=h)"
   ]
  },
  {
   "cell_type": "code",
   "execution_count": 3,
   "metadata": {},
   "outputs": [],
   "source": [
    "params = {\n",
    "    'init': {\n",
    "        'models': {\n",
    "            'lgb': lgb.LGBMRegressor(\n",
    "                n_estimators=50, num_leaves=16, verbosity=-1\n",
    "            ),\n",
    "            'lr': LinearRegression(),\n",
    "        },\n",
    "        'freq': freq,\n",
    "        'lags': [24],\n",
    "        'lag_transforms': {\n",
    "            1: [ExponentiallyWeightedMean(0.9)],\n",
    "        },\n",
    "        'num_threads': 2,\n",
    "    },\n",
    "    'fit': {\n",
    "        'static_features': ['unique_id'],\n",
    "        'prediction_intervals': PredictionIntervals(n_windows=2, h=h),\n",
    "    }\n",
    "}\n"
   ]
  },
  {
   "cell_type": "code",
   "execution_count": 4,
   "metadata": {},
   "outputs": [
    {
     "name": "stderr",
     "output_type": "stream",
     "text": [
      "c:\\Users\\l.ravazzi\\AppData\\Local\\anaconda3\\envs\\env_github\\lib\\site-packages\\mlflow\\types\\utils.py:407: UserWarning: Hint: Inferred schema contains integer column(s). Integer columns in Python cannot represent missing values. If your input data contains missing values at inference time, it will be encoded as floats and will cause a schema enforcement error. The best way to avoid this problem is to infer the model schema based on a realistic data sample (training dataset) that includes missing values. Alternatively, you can declare integer columns as doubles (float64) whenever these columns may have missing values. See `Handling Integers With Missing Values <https://www.mlflow.org/docs/latest/models.html#handling-integers-with-missing-values>`_ for more details.\n",
      "  warnings.warn(\n",
      "2024/11/12 14:31:51 WARNING mlflow.models.model: Model logged without a signature and input example. Please set `input_example` parameter when logging the model to auto infer the model signature.\n",
      "Successfully registered model 'test'.\n",
      "Created version '1' of model 'test'.\n"
     ]
    }
   ],
   "source": [
    "mlflow.set_experiment(\"mlforecast\")\n",
    "with mlflow.start_run() as run:\n",
    "    train_ds = mlflow.data.from_pandas(train)\n",
    "    valid_ds = mlflow.data.from_pandas(valid)\n",
    "    mlflow.log_input(train_ds, context=\"training\")\n",
    "    mlflow.log_input(valid_ds, context=\"validation\")\n",
    "    logged_params = copy.deepcopy(params) \n",
    "    logged_params['init']['models'] = {\n",
    "        k: (v.__class__.__name__, v.get_params())\n",
    "        for k, v in params['init']['models'].items()\n",
    "    }\n",
    "    mlflow.log_params(logged_params)\n",
    "    mlf = MLForecast(**params['init'])\n",
    "    mlf.fit(train, **params['fit'])\n",
    "    preds = mlf.predict(h, X_df=X_df)\n",
    "    eval_result = evaluate(\n",
    "        valid.merge(preds, on=['unique_id', 'ds']),\n",
    "        metrics=[rmse, smape],\n",
    "        agg_fn='mean',\n",
    "    )\n",
    "    models = mlf.models_.keys()\n",
    "    logged_metrics = {}\n",
    "    for _, row in eval_result.iterrows():\n",
    "        metric = row['metric']\n",
    "        for model in models:\n",
    "            logged_metrics[f'{metric}_{model}'] = row[model]\n",
    "    mlflow.log_metrics(logged_metrics)\n",
    "    mlforecast.flavor.log_model(model=mlf, artifact_path=\"model\", registered_model_name=\"test\")\n",
    "    model_uri = mlflow.get_artifact_uri(\"model\")\n",
    "    run_id = run.info.run_id"
   ]
  },
  {
   "cell_type": "code",
   "execution_count": 6,
   "metadata": {},
   "outputs": [],
   "source": [
    "from mlflow.tracking.client import MlflowClient\n",
    "\n",
    "client = MlflowClient()"
   ]
  },
  {
   "cell_type": "code",
   "execution_count": 7,
   "metadata": {},
   "outputs": [],
   "source": [
    "client.set_model_version_tag(\n",
    "        name=\"test\",\n",
    "        version=1,\n",
    "        key='run_id',\n",
    "        value='3'\n",
    "    )"
   ]
  },
  {
   "cell_type": "code",
   "execution_count": null,
   "metadata": {},
   "outputs": [
    {
     "data": {
      "text/plain": [
       "'af0ac33b26da481d8dac4b89f0fc7830'"
      ]
     },
     "execution_count": 11,
     "metadata": {},
     "output_type": "execute_result"
    }
   ],
   "source": [
    "mlflow.models.get_model_info(\"models:/{model_name}/{model_version}\".format(model_name=\"test\", model_version=1))._run_id"
   ]
  },
  {
   "cell_type": "code",
   "execution_count": null,
   "metadata": {},
   "outputs": [
    {
     "data": {
      "text/html": [
       "<div>\n",
       "<style scoped>\n",
       "    .dataframe tbody tr th:only-of-type {\n",
       "        vertical-align: middle;\n",
       "    }\n",
       "\n",
       "    .dataframe tbody tr th {\n",
       "        vertical-align: top;\n",
       "    }\n",
       "\n",
       "    .dataframe thead th {\n",
       "        text-align: right;\n",
       "    }\n",
       "</style>\n",
       "<table border=\"1\" class=\"dataframe\">\n",
       "  <thead>\n",
       "    <tr style=\"text-align: right;\">\n",
       "      <th></th>\n",
       "      <th>unique_id</th>\n",
       "      <th>ds</th>\n",
       "      <th>lgb</th>\n",
       "      <th>lr</th>\n",
       "    </tr>\n",
       "  </thead>\n",
       "  <tbody>\n",
       "    <tr>\n",
       "      <th>0</th>\n",
       "      <td>3</td>\n",
       "      <td>2000-01-10 16:00:00</td>\n",
       "      <td>0.331988</td>\n",
       "      <td>0.243017</td>\n",
       "    </tr>\n",
       "    <tr>\n",
       "      <th>1</th>\n",
       "      <td>3</td>\n",
       "      <td>2000-01-10 17:00:00</td>\n",
       "      <td>0.111796</td>\n",
       "      <td>0.249742</td>\n",
       "    </tr>\n",
       "  </tbody>\n",
       "</table>\n",
       "</div>"
      ],
      "text/plain": [
       "  unique_id                  ds       lgb        lr\n",
       "0         3 2000-01-10 16:00:00  0.331988  0.243017\n",
       "1         3 2000-01-10 17:00:00  0.111796  0.249742"
      ]
     },
     "execution_count": 8,
     "metadata": {},
     "output_type": "execute_result"
    }
   ],
   "source": [
    "# Retrieve pickle file of the model\n",
    "loaded_model = mlforecast.flavor.load_model(model_uri=model_uri)\n",
    "results = loaded_model.predict(h=h, X_df=X_df, ids=[3])\n",
    "results.head(2)"
   ]
  },
  {
   "cell_type": "code",
   "execution_count": 11,
   "metadata": {},
   "outputs": [
    {
     "name": "stdout",
     "output_type": "stream",
     "text": [
      "   unique_id                   ds       lgb        lr  lgb-lo-95  lgb-hi-95  \\\n",
      "0          3  2000-01-10T16:00:00  0.331988  0.243017   0.160489   0.503487   \n",
      "1          3  2000-01-10T17:00:00  0.111796  0.249742  -0.020332   0.243924   \n",
      "\n",
      "   lr-lo-95  lr-hi-95  \n",
      "0  0.032451  0.453583  \n",
      "1  0.045525  0.453959  \n"
     ]
    },
    {
     "data": {
      "text/plain": [
       "1"
      ]
     },
     "execution_count": 11,
     "metadata": {},
     "output_type": "execute_result"
    }
   ],
   "source": [
    "host = 'localhost'\n",
    "port = '5000'\n",
    "cmd = f'mlflow models serve -m runs:/{run_id}/model -h {host} -p {port} --env-manager local'\n",
    "# initialize server\n",
    "process = subprocess.Popen(cmd.split())\n",
    "time.sleep(5)\n",
    "# single row dataframe. must be JSON serializable\n",
    "predict_conf = pd.DataFrame(\n",
    "    [\n",
    "        {\n",
    "            \"h\": h,\n",
    "            \"ids\": [3, 4],\n",
    "            \"X_df\": X_df.astype({'ds': 'str'}).to_dict(orient='list'),\n",
    "            \"level\": [95]\n",
    "        }\n",
    "    ]\n",
    ")\n",
    "payload = {'dataframe_split': predict_conf.to_dict(orient='split', index=False)}\n",
    "resp = requests.post(f'http://{host}:{port}/invocations', json=payload)\n",
    "print(pd.DataFrame(resp.json()['predictions']).head(2))\n",
    "process.terminate()\n",
    "process.wait(timeout=10)"
   ]
  }
 ],
 "metadata": {
  "kernelspec": {
   "display_name": "env_github",
   "language": "python",
   "name": "python3"
  },
  "language_info": {
   "codemirror_mode": {
    "name": "ipython",
    "version": 3
   },
   "file_extension": ".py",
   "mimetype": "text/x-python",
   "name": "python",
   "nbconvert_exporter": "python",
   "pygments_lexer": "ipython3",
   "version": "3.9.20"
  }
 },
 "nbformat": 4,
 "nbformat_minor": 2
}
