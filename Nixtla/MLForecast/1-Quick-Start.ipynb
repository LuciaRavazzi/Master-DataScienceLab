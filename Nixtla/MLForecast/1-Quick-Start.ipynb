{
 "cells": [
  {
   "cell_type": "markdown",
   "metadata": {},
   "source": [
    "**Quick Start**\n",
    "\n",
    "Source: https://nixtlaverse.nixtla.io/mlforecast/docs/getting-started/quick_start_local.html\n",
    "\n",
    "- Dataset preprocessato: fcst.preprocess(df)\n",
    "- Dataset di training e test finale: X, y = fcst.preprocess(df, return_X_y=True, as_numpy=True)\n",
    "- Le trasformazioni di MLForecast vengono effettuati anche sulle esogene: no, sono distinte\n",
    "- Nel predict non considera le feature della target? Nel recursive può sempre calcolarsele perché ha i valori predetti\n",
    "- Nel predict se ho delle features calcolate con dei regressori, come le calcola? Come ha fatto nel training\n",
    "- Processo a backend? Non è ben descritto\n",
    "- Mettere tutte le serie insieme: calcolo delle features e del modello\n",
    "- Forecasting con i regressori"
   ]
  },
  {
   "cell_type": "code",
   "execution_count": 4,
   "metadata": {},
   "outputs": [],
   "source": [
    "import pandas as pd\n",
    "from utilsforecast.plotting import plot_series\n",
    "from mlforecast import MLForecast\n",
    "from mlforecast.target_transforms import Differences\n",
    "from sklearn.linear_model import LinearRegression"
   ]
  },
  {
   "cell_type": "code",
   "execution_count": 5,
   "metadata": {},
   "outputs": [
    {
     "data": {
      "text/html": [
       "<div>\n",
       "<style scoped>\n",
       "    .dataframe tbody tr th:only-of-type {\n",
       "        vertical-align: middle;\n",
       "    }\n",
       "\n",
       "    .dataframe tbody tr th {\n",
       "        vertical-align: top;\n",
       "    }\n",
       "\n",
       "    .dataframe thead th {\n",
       "        text-align: right;\n",
       "    }\n",
       "</style>\n",
       "<table border=\"1\" class=\"dataframe\">\n",
       "  <thead>\n",
       "    <tr style=\"text-align: right;\">\n",
       "      <th></th>\n",
       "      <th>unique_id</th>\n",
       "      <th>ds</th>\n",
       "      <th>y</th>\n",
       "    </tr>\n",
       "  </thead>\n",
       "  <tbody>\n",
       "    <tr>\n",
       "      <th>0</th>\n",
       "      <td>AirPassengers</td>\n",
       "      <td>1949-01-01</td>\n",
       "      <td>112</td>\n",
       "    </tr>\n",
       "    <tr>\n",
       "      <th>1</th>\n",
       "      <td>AirPassengers</td>\n",
       "      <td>1949-02-01</td>\n",
       "      <td>118</td>\n",
       "    </tr>\n",
       "    <tr>\n",
       "      <th>2</th>\n",
       "      <td>AirPassengers</td>\n",
       "      <td>1949-03-01</td>\n",
       "      <td>132</td>\n",
       "    </tr>\n",
       "    <tr>\n",
       "      <th>3</th>\n",
       "      <td>AirPassengers</td>\n",
       "      <td>1949-04-01</td>\n",
       "      <td>129</td>\n",
       "    </tr>\n",
       "    <tr>\n",
       "      <th>4</th>\n",
       "      <td>AirPassengers</td>\n",
       "      <td>1949-05-01</td>\n",
       "      <td>121</td>\n",
       "    </tr>\n",
       "  </tbody>\n",
       "</table>\n",
       "</div>"
      ],
      "text/plain": [
       "       unique_id         ds    y\n",
       "0  AirPassengers 1949-01-01  112\n",
       "1  AirPassengers 1949-02-01  118\n",
       "2  AirPassengers 1949-03-01  132\n",
       "3  AirPassengers 1949-04-01  129\n",
       "4  AirPassengers 1949-05-01  121"
      ]
     },
     "execution_count": 5,
     "metadata": {},
     "output_type": "execute_result"
    }
   ],
   "source": [
    "df = pd.read_csv('https://datasets-nixtla.s3.amazonaws.com/air-passengers.csv', parse_dates=['ds'])\n",
    "df.head()\n",
    "\n",
    "# unique_id: identifier of time serie"
   ]
  },
  {
   "cell_type": "code",
   "execution_count": 11,
   "metadata": {},
   "outputs": [
    {
     "data": {
      "text/plain": [
       "MLForecast(models=[LinearRegression], freq=MS, lag_features=['lag12'], date_features=[], num_threads=1)"
      ]
     },
     "execution_count": 11,
     "metadata": {},
     "output_type": "execute_result"
    }
   ],
   "source": [
    "fcst = MLForecast(\n",
    "    models=LinearRegression(),\n",
    "    freq='MS',  # our serie has a monthly frequency\n",
    "    lags=[12], # begono calcolati sulla target originale\n",
    "    target_transforms=[Differences([1])], # nuova target non considerata nei lags \n",
    ")\n",
    "fcst"
   ]
  },
  {
   "cell_type": "code",
   "execution_count": 13,
   "metadata": {},
   "outputs": [],
   "source": [
    "X, y = fcst.preprocess(df, return_X_y=True, as_numpy=True)"
   ]
  },
  {
   "cell_type": "code",
   "execution_count": 18,
   "metadata": {},
   "outputs": [
    {
     "data": {
      "text/plain": [
       "(array([[   6.],\n",
       "        [  14.],\n",
       "        [  -3.],\n",
       "        [  -8.],\n",
       "        [  14.],\n",
       "        [  13.],\n",
       "        [   0.],\n",
       "        [ -12.],\n",
       "        [ -17.],\n",
       "        [ -15.],\n",
       "        [  14.],\n",
       "        [  -3.],\n",
       "        [  11.],\n",
       "        [  15.],\n",
       "        [  -6.],\n",
       "        [ -10.],\n",
       "        [  24.],\n",
       "        [  21.],\n",
       "        [   0.],\n",
       "        [ -12.],\n",
       "        [ -25.],\n",
       "        [ -19.],\n",
       "        [  26.],\n",
       "        [   5.],\n",
       "        [   5.],\n",
       "        [  28.],\n",
       "        [ -15.],\n",
       "        [   9.],\n",
       "        [   6.],\n",
       "        [  21.],\n",
       "        [   0.],\n",
       "        [ -15.],\n",
       "        [ -22.],\n",
       "        [ -16.],\n",
       "        [  20.],\n",
       "        [   5.],\n",
       "        [   9.],\n",
       "        [  13.],\n",
       "        [ -12.],\n",
       "        [   2.],\n",
       "        [  35.],\n",
       "        [  12.],\n",
       "        [  12.],\n",
       "        [ -33.],\n",
       "        [ -18.],\n",
       "        [ -19.],\n",
       "        [  22.],\n",
       "        [   2.],\n",
       "        [   0.],\n",
       "        [  40.],\n",
       "        [  -1.],\n",
       "        [  -6.],\n",
       "        [  14.],\n",
       "        [  21.],\n",
       "        [   8.],\n",
       "        [ -35.],\n",
       "        [ -26.],\n",
       "        [ -31.],\n",
       "        [  21.],\n",
       "        [   3.],\n",
       "        [ -16.],\n",
       "        [  47.],\n",
       "        [  -8.],\n",
       "        [   7.],\n",
       "        [  30.],\n",
       "        [  38.],\n",
       "        [  -9.],\n",
       "        [ -34.],\n",
       "        [ -30.],\n",
       "        [ -26.],\n",
       "        [  26.],\n",
       "        [  13.],\n",
       "        [  -9.],\n",
       "        [  34.],\n",
       "        [   2.],\n",
       "        [   1.],\n",
       "        [  45.],\n",
       "        [  49.],\n",
       "        [ -17.],\n",
       "        [ -35.],\n",
       "        [ -38.],\n",
       "        [ -37.],\n",
       "        [  41.],\n",
       "        [   6.],\n",
       "        [  -7.],\n",
       "        [  40.],\n",
       "        [  -4.],\n",
       "        [   5.],\n",
       "        [  56.],\n",
       "        [  39.],\n",
       "        [  -8.],\n",
       "        [ -50.],\n",
       "        [ -49.],\n",
       "        [ -35.],\n",
       "        [  35.],\n",
       "        [   9.],\n",
       "        [ -14.],\n",
       "        [  55.],\n",
       "        [  -8.],\n",
       "        [   7.],\n",
       "        [  67.],\n",
       "        [  43.],\n",
       "        [   2.],\n",
       "        [ -63.],\n",
       "        [ -57.],\n",
       "        [ -42.],\n",
       "        [  31.],\n",
       "        [   4.],\n",
       "        [ -22.],\n",
       "        [  44.],\n",
       "        [ -14.],\n",
       "        [  15.],\n",
       "        [  72.],\n",
       "        [  56.],\n",
       "        [  14.],\n",
       "        [-101.],\n",
       "        [ -45.],\n",
       "        [ -49.],\n",
       "        [  27.],\n",
       "        [  23.],\n",
       "        [ -18.],\n",
       "        [  64.],\n",
       "        [ -10.],\n",
       "        [  24.],\n",
       "        [  52.],\n",
       "        [  76.],\n",
       "        [  11.],\n",
       "        [ -96.],\n",
       "        [ -56.],\n",
       "        [ -45.],\n",
       "        [  43.]], dtype=float32),\n",
       " array([  11.,   15.,   -6.,  -10.,   24.,   21.,    0.,  -12.,  -25.,\n",
       "         -19.,   26.,    5.,    5.,   28.,  -15.,    9.,    6.,   21.,\n",
       "           0.,  -15.,  -22.,  -16.,   20.,    5.,    9.,   13.,  -12.,\n",
       "           2.,   35.,   12.,   12.,  -33.,  -18.,  -19.,   22.,    2.,\n",
       "           0.,   40.,   -1.,   -6.,   14.,   21.,    8.,  -35.,  -26.,\n",
       "         -31.,   21.,    3.,  -16.,   47.,   -8.,    7.,   30.,   38.,\n",
       "          -9.,  -34.,  -30.,  -26.,   26.,   13.,   -9.,   34.,    2.,\n",
       "           1.,   45.,   49.,  -17.,  -35.,  -38.,  -37.,   41.,    6.,\n",
       "          -7.,   40.,   -4.,    5.,   56.,   39.,   -8.,  -50.,  -49.,\n",
       "         -35.,   35.,    9.,  -14.,   55.,   -8.,    7.,   67.,   43.,\n",
       "           2.,  -63.,  -57.,  -42.,   31.,    4.,  -22.,   44.,  -14.,\n",
       "          15.,   72.,   56.,   14., -101.,  -45.,  -49.,   27.,   23.,\n",
       "         -18.,   64.,  -10.,   24.,   52.,   76.,   11.,  -96.,  -56.,\n",
       "         -45.,   43.,   12.,  -26.,   28.,   42.,   11.,   63.,   87.,\n",
       "         -16.,  -98.,  -47.,  -71.,   42.], dtype=float32))"
      ]
     },
     "execution_count": 18,
     "metadata": {},
     "output_type": "execute_result"
    }
   ],
   "source": [
    "X, y"
   ]
  },
  {
   "cell_type": "code",
   "execution_count": 15,
   "metadata": {},
   "outputs": [
    {
     "data": {
      "text/plain": [
       "['lag12']"
      ]
     },
     "execution_count": 15,
     "metadata": {},
     "output_type": "execute_result"
    }
   ],
   "source": [
    "fcst.ts.features_order_"
   ]
  },
  {
   "cell_type": "code",
   "execution_count": 16,
   "metadata": {},
   "outputs": [
    {
     "data": {
      "text/plain": [
       "MLForecast(models=[LinearRegression], freq=MS, lag_features=['lag12'], date_features=[], num_threads=1)"
      ]
     },
     "execution_count": 16,
     "metadata": {},
     "output_type": "execute_result"
    }
   ],
   "source": [
    "fcst.fit(df)"
   ]
  },
  {
   "cell_type": "code",
   "execution_count": 17,
   "metadata": {},
   "outputs": [
    {
     "data": {
      "text/html": [
       "<div>\n",
       "<style scoped>\n",
       "    .dataframe tbody tr th:only-of-type {\n",
       "        vertical-align: middle;\n",
       "    }\n",
       "\n",
       "    .dataframe tbody tr th {\n",
       "        vertical-align: top;\n",
       "    }\n",
       "\n",
       "    .dataframe thead th {\n",
       "        text-align: right;\n",
       "    }\n",
       "</style>\n",
       "<table border=\"1\" class=\"dataframe\">\n",
       "  <thead>\n",
       "    <tr style=\"text-align: right;\">\n",
       "      <th></th>\n",
       "      <th>unique_id</th>\n",
       "      <th>ds</th>\n",
       "      <th>LinearRegression</th>\n",
       "    </tr>\n",
       "  </thead>\n",
       "  <tbody>\n",
       "    <tr>\n",
       "      <th>0</th>\n",
       "      <td>AirPassengers</td>\n",
       "      <td>1961-01-01</td>\n",
       "      <td>444.656555</td>\n",
       "    </tr>\n",
       "    <tr>\n",
       "      <th>1</th>\n",
       "      <td>AirPassengers</td>\n",
       "      <td>1961-02-01</td>\n",
       "      <td>417.470734</td>\n",
       "    </tr>\n",
       "    <tr>\n",
       "      <th>2</th>\n",
       "      <td>AirPassengers</td>\n",
       "      <td>1961-03-01</td>\n",
       "      <td>446.903046</td>\n",
       "    </tr>\n",
       "    <tr>\n",
       "      <th>3</th>\n",
       "      <td>AirPassengers</td>\n",
       "      <td>1961-04-01</td>\n",
       "      <td>491.014130</td>\n",
       "    </tr>\n",
       "    <tr>\n",
       "      <th>4</th>\n",
       "      <td>AirPassengers</td>\n",
       "      <td>1961-05-01</td>\n",
       "      <td>502.622223</td>\n",
       "    </tr>\n",
       "    <tr>\n",
       "      <th>5</th>\n",
       "      <td>AirPassengers</td>\n",
       "      <td>1961-06-01</td>\n",
       "      <td>568.751465</td>\n",
       "    </tr>\n",
       "    <tr>\n",
       "      <th>6</th>\n",
       "      <td>AirPassengers</td>\n",
       "      <td>1961-07-01</td>\n",
       "      <td>660.044312</td>\n",
       "    </tr>\n",
       "    <tr>\n",
       "      <th>7</th>\n",
       "      <td>AirPassengers</td>\n",
       "      <td>1961-08-01</td>\n",
       "      <td>643.343323</td>\n",
       "    </tr>\n",
       "    <tr>\n",
       "      <th>8</th>\n",
       "      <td>AirPassengers</td>\n",
       "      <td>1961-09-01</td>\n",
       "      <td>540.666687</td>\n",
       "    </tr>\n",
       "    <tr>\n",
       "      <th>9</th>\n",
       "      <td>AirPassengers</td>\n",
       "      <td>1961-10-01</td>\n",
       "      <td>491.462708</td>\n",
       "    </tr>\n",
       "    <tr>\n",
       "      <th>10</th>\n",
       "      <td>AirPassengers</td>\n",
       "      <td>1961-11-01</td>\n",
       "      <td>417.095154</td>\n",
       "    </tr>\n",
       "    <tr>\n",
       "      <th>11</th>\n",
       "      <td>AirPassengers</td>\n",
       "      <td>1961-12-01</td>\n",
       "      <td>461.206238</td>\n",
       "    </tr>\n",
       "  </tbody>\n",
       "</table>\n",
       "</div>"
      ],
      "text/plain": [
       "        unique_id         ds  LinearRegression\n",
       "0   AirPassengers 1961-01-01        444.656555\n",
       "1   AirPassengers 1961-02-01        417.470734\n",
       "2   AirPassengers 1961-03-01        446.903046\n",
       "3   AirPassengers 1961-04-01        491.014130\n",
       "4   AirPassengers 1961-05-01        502.622223\n",
       "5   AirPassengers 1961-06-01        568.751465\n",
       "6   AirPassengers 1961-07-01        660.044312\n",
       "7   AirPassengers 1961-08-01        643.343323\n",
       "8   AirPassengers 1961-09-01        540.666687\n",
       "9   AirPassengers 1961-10-01        491.462708\n",
       "10  AirPassengers 1961-11-01        417.095154\n",
       "11  AirPassengers 1961-12-01        461.206238"
      ]
     },
     "execution_count": 17,
     "metadata": {},
     "output_type": "execute_result"
    }
   ],
   "source": [
    "# nella parte ricorsiva, il dataset sarà strutturato come quello di train. \n",
    "# quindi ogni y (che sarà la differenza) sarà predetta dal lag a 12 ed infien trasformata \n",
    "preds = fcst.predict(12)\n",
    "preds"
   ]
  },
  {
   "cell_type": "code",
   "execution_count": 92,
   "metadata": {},
   "outputs": [
    {
     "data": {
      "image/png": "[encoded data removed]",
      "text/plain": [
       "<Figure size 1600x350 with 1 Axes>"
      ]
     },
     "execution_count": 92,
     "metadata": {},
     "output_type": "execute_result"
    }
   ],
   "source": [
    "fig = plot_series(df, preds)\n",
    "fig"
   ]
  }
 ],
 "metadata": {
  "kernelspec": {
   "display_name": "env_github",
   "language": "python",
   "name": "python3"
  },
  "language_info": {
   "codemirror_mode": {
    "name": "ipython",
    "version": 3
   },
   "file_extension": ".py",
   "mimetype": "text/x-python",
   "name": "python",
   "nbconvert_exporter": "python",
   "pygments_lexer": "ipython3",
   "version": "3.10.15"
  }
 },
 "nbformat": 4,
 "nbformat_minor": 2
}
